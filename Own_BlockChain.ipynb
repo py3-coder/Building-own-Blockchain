{
 "cells": [
  {
   "cell_type": "markdown",
   "id": "141bea38",
   "metadata": {},
   "source": [
    "# Creating my own Block Chain "
   ]
  },
  {
   "cell_type": "code",
   "execution_count": 3,
   "id": "06a331d9",
   "metadata": {},
   "outputs": [],
   "source": [
    "import hashlib\n",
    "\n",
    "# to generate hash value we are using sha256 algorithm which can generate upto 256 bit hashvalue\n",
    "# SHA-256 is a patented cryptographic hash function that outputs a value that is 256 bits long.\n",
    "\n",
    "def hash_generator(data):\n",
    "    result = hashlib.sha256(data.encode())\n",
    "    return result.hexdigest()\n",
    "\n",
    "## Block with 3 main parameters \n",
    "## 1.Data\n",
    "## 2.Hash Value of Block\n",
    "## 3.Hash value of Previous Block\n",
    "\n",
    "class Block:\n",
    "    def __init__(self,data,hash,prev_hash):\n",
    "        self.data = data\n",
    "        self.hash=hash\n",
    "        self.prev_hash=prev_hash\n",
    "        \n",
    "class Blockchain:\n",
    "    def __init__(self):\n",
    "        ## hashLast means hash of Last Block\n",
    "        hashLast =hash_generator('gen_last')\n",
    "        ## hast Start means hash of that block\n",
    "        hashStart = hash_generator('gen_hash')\n",
    "        \n",
    "        ## genesis is first block of block chain or we can say base of all block\n",
    "        genesis=Block('gen_data',hashStart,hashLast)\n",
    "        self.chain =[genesis]\n",
    "        \n",
    "    #method to add new block in BlockChain\n",
    "    def add_block(self,data):\n",
    "        prev_hash =self.chain[-1].hash\n",
    "        hash =hash_generator(data+prev_hash)\n",
    "        block = Block(data,hash,prev_hash)\n",
    "        self.chain.append(block)\n",
    "            "
   ]
  },
  {
   "cell_type": "code",
   "execution_count": 4,
   "id": "8d2e06f7",
   "metadata": {},
   "outputs": [],
   "source": [
    "\n",
    "block_chain = Blockchain()\n",
    "block_chain.add_block('1')\n",
    "block_chain.add_block('2')\n",
    "block_chain.add_block('3')"
   ]
  },
  {
   "cell_type": "code",
   "execution_count": 5,
   "id": "168cfd23",
   "metadata": {},
   "outputs": [
    {
     "name": "stdout",
     "output_type": "stream",
     "text": [
      "{'data': 'gen_data', 'hash': '0a87388e67f16d830a9a3323dad0fdfa4c4044a6a6389cab1a0a37b651a5717b', 'prev_hash': 'bd6fecc16d509c74d23b04f00f936705e3eaa907b04b78872044607665018477'}\n",
      "{'data': '1', 'hash': 'e3e6c97161f3deaf01599fda60ba85593b07f70328bf228473d1d408f7400241', 'prev_hash': '0a87388e67f16d830a9a3323dad0fdfa4c4044a6a6389cab1a0a37b651a5717b'}\n",
      "{'data': '2', 'hash': '47e8645e3c14bd4034a498aa88ea630bc0793375207bf90ca469792a5d9484e1', 'prev_hash': 'e3e6c97161f3deaf01599fda60ba85593b07f70328bf228473d1d408f7400241'}\n",
      "{'data': '3', 'hash': '82084603decb1a14a8819dacaa86197659f1e150c4a50186e68043004b5a3c06', 'prev_hash': '47e8645e3c14bd4034a498aa88ea630bc0793375207bf90ca469792a5d9484e1'}\n"
     ]
    }
   ],
   "source": [
    "for block in block_chain.chain:\n",
    "    print(block.__dict__)"
   ]
  },
  {
   "cell_type": "code",
   "execution_count": 6,
   "id": "5a860728",
   "metadata": {},
   "outputs": [],
   "source": [
    "bc = Blockchain()\n",
    "bc.add_block(\"Saurabh\")\n",
    "bc.add_block(\"Ankit\")\n",
    "bc.add_block(\"Raj\")\n",
    "bc.add_block(\"Aakash\")\n",
    "bc.add_block(\"Aarush\")\n",
    "bc.add_block(\"Vansham\")\n",
    "bc.add_block(\"Abhijeet\")"
   ]
  },
  {
   "cell_type": "code",
   "execution_count": 7,
   "id": "272c9151",
   "metadata": {},
   "outputs": [
    {
     "name": "stdout",
     "output_type": "stream",
     "text": [
      "{'data': 'gen_data', 'hash': '0a87388e67f16d830a9a3323dad0fdfa4c4044a6a6389cab1a0a37b651a5717b', 'prev_hash': 'bd6fecc16d509c74d23b04f00f936705e3eaa907b04b78872044607665018477'}\n",
      "{'data': 'Saurabh', 'hash': '29c99adecbd82bf3573e430cf9703b753b62e219466680040336534416384a7f', 'prev_hash': '0a87388e67f16d830a9a3323dad0fdfa4c4044a6a6389cab1a0a37b651a5717b'}\n",
      "{'data': 'Ankit', 'hash': '929d530fc7f25b37c209f85270e15ca88f11ef522d956d3b9a8b96bca9ad32c8', 'prev_hash': '29c99adecbd82bf3573e430cf9703b753b62e219466680040336534416384a7f'}\n",
      "{'data': 'Raj', 'hash': '6f507f66d440ca68047869617563290446f7245b54c75d4a80fa6deed435562d', 'prev_hash': '929d530fc7f25b37c209f85270e15ca88f11ef522d956d3b9a8b96bca9ad32c8'}\n",
      "{'data': 'Aakash', 'hash': '58e8fcc7a94068c5de7247a55017880e58e5668bcf83fce2edf9b5c8c09e88dc', 'prev_hash': '6f507f66d440ca68047869617563290446f7245b54c75d4a80fa6deed435562d'}\n",
      "{'data': 'Aarush', 'hash': 'a94e3750b796df930a7788321a01d61352cf4c11cd8e07a719b81f767a62b42a', 'prev_hash': '58e8fcc7a94068c5de7247a55017880e58e5668bcf83fce2edf9b5c8c09e88dc'}\n",
      "{'data': 'Vansham', 'hash': 'a3755465441fd21a5947727aa1dddf2520de67f627d3d5f82e96649c521329fd', 'prev_hash': 'a94e3750b796df930a7788321a01d61352cf4c11cd8e07a719b81f767a62b42a'}\n",
      "{'data': 'Abhijeet', 'hash': '7e141003121272cbec1af921a4bdfb18f1b24b5570eed2c1a72df7c79587247c', 'prev_hash': 'a3755465441fd21a5947727aa1dddf2520de67f627d3d5f82e96649c521329fd'}\n"
     ]
    }
   ],
   "source": [
    "for block in bc.chain:\n",
    "    print(block.__dict__)"
   ]
  },
  {
   "cell_type": "code",
   "execution_count": null,
   "id": "c6da58fc",
   "metadata": {},
   "outputs": [],
   "source": []
  }
 ],
 "metadata": {
  "kernelspec": {
   "display_name": "Python 3",
   "language": "python",
   "name": "python3"
  },
  "language_info": {
   "codemirror_mode": {
    "name": "ipython",
    "version": 3
   },
   "file_extension": ".py",
   "mimetype": "text/x-python",
   "name": "python",
   "nbconvert_exporter": "python",
   "pygments_lexer": "ipython3",
   "version": "3.8.8"
  }
 },
 "nbformat": 4,
 "nbformat_minor": 5
}
